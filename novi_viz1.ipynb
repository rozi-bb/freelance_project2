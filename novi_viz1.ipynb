{
  "cells": [
    {
      "cell_type": "code",
      "execution_count": 2,
      "metadata": {
        "id": "mbV9a4gZgDgq"
      },
      "outputs": [],
      "source": [
        "import pandas as pd\n",
        "import matplotlib.pyplot as plt\n",
        "from decimal import Decimal\n",
        "import numpy as np\n",
        "\n",
        "df = pd.read_csv('https://raw.githubusercontent.com/rozi-bb/Dataset/main/EOS_NSM_FSU2HZ2.dat', header=None)"
      ]
    },
    {
      "cell_type": "code",
      "execution_count": 3,
      "metadata": {
        "id": "Cq5ZeY3iwcVv"
      },
      "outputs": [],
      "source": [
        "df = pd.DataFrame(df)"
      ]
    },
    {
      "cell_type": "code",
      "execution_count": 4,
      "metadata": {
        "id": "3oWhCmTHmwzC"
      },
      "outputs": [],
      "source": [
        "df[0] = df[0].apply(lambda x: x.split())"
      ]
    },
    {
      "cell_type": "code",
      "execution_count": 5,
      "metadata": {
        "id": "Q8fIJ_9orPCf"
      },
      "outputs": [],
      "source": [
        "df[0] = df[0].apply(lambda x: [Decimal(angka) for angka in x])"
      ]
    },
    {
      "cell_type": "code",
      "execution_count": 6,
      "metadata": {
        "colab": {
          "base_uri": "https://localhost:8080/",
          "height": 206
        },
        "id": "A1EtHr4HtHa5",
        "outputId": "fc486d4b-cfbb-4c42-871d-c932066156a8"
      },
      "outputs": [
        {
          "data": {
            "text/html": [
              "<div>\n",
              "<style scoped>\n",
              "    .dataframe tbody tr th:only-of-type {\n",
              "        vertical-align: middle;\n",
              "    }\n",
              "\n",
              "    .dataframe tbody tr th {\n",
              "        vertical-align: top;\n",
              "    }\n",
              "\n",
              "    .dataframe thead th {\n",
              "        text-align: right;\n",
              "    }\n",
              "</style>\n",
              "<table border=\"1\" class=\"dataframe\">\n",
              "  <thead>\n",
              "    <tr style=\"text-align: right;\">\n",
              "      <th></th>\n",
              "      <th>0</th>\n",
              "    </tr>\n",
              "  </thead>\n",
              "  <tbody>\n",
              "    <tr>\n",
              "      <th>0</th>\n",
              "      <td>[0.010000000000000000, 0.0015046605216545040, ...</td>\n",
              "    </tr>\n",
              "    <tr>\n",
              "      <th>1</th>\n",
              "      <td>[0.020000000000000000, 0.0030093210433090080, ...</td>\n",
              "    </tr>\n",
              "    <tr>\n",
              "      <th>2</th>\n",
              "      <td>[0.029999999999999999, 0.0045139815649635120, ...</td>\n",
              "    </tr>\n",
              "    <tr>\n",
              "      <th>3</th>\n",
              "      <td>[0.040000000000000001, 0.0060186420866180160, ...</td>\n",
              "    </tr>\n",
              "    <tr>\n",
              "      <th>4</th>\n",
              "      <td>[0.050000000000000003, 0.0075233026082725200, ...</td>\n",
              "    </tr>\n",
              "  </tbody>\n",
              "</table>\n",
              "</div>"
            ],
            "text/plain": [
              "                                                   0\n",
              "0  [0.010000000000000000, 0.0015046605216545040, ...\n",
              "1  [0.020000000000000000, 0.0030093210433090080, ...\n",
              "2  [0.029999999999999999, 0.0045139815649635120, ...\n",
              "3  [0.040000000000000001, 0.0060186420866180160, ...\n",
              "4  [0.050000000000000003, 0.0075233026082725200, ..."
            ]
          },
          "execution_count": 6,
          "metadata": {},
          "output_type": "execute_result"
        }
      ],
      "source": [
        "df.head()"
      ]
    },
    {
      "cell_type": "code",
      "execution_count": 7,
      "metadata": {
        "id": "0HcNlsxht75L"
      },
      "outputs": [],
      "source": [
        "def list_to_string(lst):\n",
        "    return ' '.join(map(str, lst))"
      ]
    },
    {
      "cell_type": "code",
      "execution_count": 8,
      "metadata": {
        "id": "1YaZQBZct84E"
      },
      "outputs": [],
      "source": [
        "df[0] = df[0].apply(list_to_string)"
      ]
    },
    {
      "cell_type": "code",
      "execution_count": 9,
      "metadata": {
        "colab": {
          "base_uri": "https://localhost:8080/",
          "height": 206
        },
        "id": "p4ZCzH0luGCC",
        "outputId": "7f2268af-55d8-44a7-aa0c-6786b14b3752"
      },
      "outputs": [
        {
          "data": {
            "text/html": [
              "<div>\n",
              "<style scoped>\n",
              "    .dataframe tbody tr th:only-of-type {\n",
              "        vertical-align: middle;\n",
              "    }\n",
              "\n",
              "    .dataframe tbody tr th {\n",
              "        vertical-align: top;\n",
              "    }\n",
              "\n",
              "    .dataframe thead th {\n",
              "        text-align: right;\n",
              "    }\n",
              "</style>\n",
              "<table border=\"1\" class=\"dataframe\">\n",
              "  <thead>\n",
              "    <tr style=\"text-align: right;\">\n",
              "      <th></th>\n",
              "      <th>0</th>\n",
              "    </tr>\n",
              "  </thead>\n",
              "  <tbody>\n",
              "    <tr>\n",
              "      <th>0</th>\n",
              "      <td>0.010000000000000000 0.0015046605216545040 0.0...</td>\n",
              "    </tr>\n",
              "    <tr>\n",
              "      <th>1</th>\n",
              "      <td>0.020000000000000000 0.0030093210433090080 0.0...</td>\n",
              "    </tr>\n",
              "    <tr>\n",
              "      <th>2</th>\n",
              "      <td>0.029999999999999999 0.0045139815649635120 0.0...</td>\n",
              "    </tr>\n",
              "    <tr>\n",
              "      <th>3</th>\n",
              "      <td>0.040000000000000001 0.0060186420866180160 0.0...</td>\n",
              "    </tr>\n",
              "    <tr>\n",
              "      <th>4</th>\n",
              "      <td>0.050000000000000003 0.0075233026082725200 0.0...</td>\n",
              "    </tr>\n",
              "  </tbody>\n",
              "</table>\n",
              "</div>"
            ],
            "text/plain": [
              "                                                   0\n",
              "0  0.010000000000000000 0.0015046605216545040 0.0...\n",
              "1  0.020000000000000000 0.0030093210433090080 0.0...\n",
              "2  0.029999999999999999 0.0045139815649635120 0.0...\n",
              "3  0.040000000000000001 0.0060186420866180160 0.0...\n",
              "4  0.050000000000000003 0.0075233026082725200 0.0..."
            ]
          },
          "execution_count": 9,
          "metadata": {},
          "output_type": "execute_result"
        }
      ],
      "source": [
        "df.head()"
      ]
    },
    {
      "cell_type": "code",
      "execution_count": 10,
      "metadata": {
        "id": "LDY2bgLauJwI"
      },
      "outputs": [],
      "source": [
        "df = df[0].str.split(' ', expand=True)"
      ]
    },
    {
      "cell_type": "code",
      "execution_count": 11,
      "metadata": {
        "colab": {
          "base_uri": "https://localhost:8080/",
          "height": 519
        },
        "id": "n8CsS0hKuNP3",
        "outputId": "032ebc90-6496-4e1b-f0aa-74de89314e05"
      },
      "outputs": [
        {
          "data": {
            "text/html": [
              "<div>\n",
              "<style scoped>\n",
              "    .dataframe tbody tr th:only-of-type {\n",
              "        vertical-align: middle;\n",
              "    }\n",
              "\n",
              "    .dataframe tbody tr th {\n",
              "        vertical-align: top;\n",
              "    }\n",
              "\n",
              "    .dataframe thead th {\n",
              "        text-align: right;\n",
              "    }\n",
              "</style>\n",
              "<table border=\"1\" class=\"dataframe\">\n",
              "  <thead>\n",
              "    <tr style=\"text-align: right;\">\n",
              "      <th></th>\n",
              "      <th>0</th>\n",
              "      <th>1</th>\n",
              "      <th>2</th>\n",
              "      <th>3</th>\n",
              "    </tr>\n",
              "  </thead>\n",
              "  <tbody>\n",
              "    <tr>\n",
              "      <th>0</th>\n",
              "      <td>0.010000000000000000</td>\n",
              "      <td>0.0015046605216545040</td>\n",
              "      <td>0.0010692820706294259</td>\n",
              "      <td>1.4150160295053575</td>\n",
              "    </tr>\n",
              "    <tr>\n",
              "      <th>1</th>\n",
              "      <td>0.020000000000000000</td>\n",
              "      <td>0.0030093210433090080</td>\n",
              "      <td>0.0030744374114825097</td>\n",
              "      <td>2.8318212954106019</td>\n",
              "    </tr>\n",
              "    <tr>\n",
              "      <th>2</th>\n",
              "      <td>0.029999999999999999</td>\n",
              "      <td>0.0045139815649635120</td>\n",
              "      <td>0.0056705800121432982</td>\n",
              "      <td>4.2498094198889786</td>\n",
              "    </tr>\n",
              "    <tr>\n",
              "      <th>3</th>\n",
              "      <td>0.040000000000000001</td>\n",
              "      <td>0.0060186420866180160</td>\n",
              "      <td>0.0087417472382204185</td>\n",
              "      <td>5.6687533111689321</td>\n",
              "    </tr>\n",
              "    <tr>\n",
              "      <th>4</th>\n",
              "      <td>0.050000000000000003</td>\n",
              "      <td>0.0075233026082725200</td>\n",
              "      <td>0.012216176263307723</td>\n",
              "      <td>7.0885208626586103</td>\n",
              "    </tr>\n",
              "    <tr>\n",
              "      <th>5</th>\n",
              "      <td>0.059999999999999998</td>\n",
              "      <td>0.0090279631299270240</td>\n",
              "      <td>0.016033664912633507</td>\n",
              "      <td>8.5090208487088361</td>\n",
              "    </tr>\n",
              "    <tr>\n",
              "      <th>6</th>\n",
              "      <td>0.070000000000000007</td>\n",
              "      <td>0.010532623651581528</td>\n",
              "      <td>0.020135458002301036</td>\n",
              "      <td>9.9301829492171461</td>\n",
              "    </tr>\n",
              "    <tr>\n",
              "      <th>7</th>\n",
              "      <td>0.080000000000000002</td>\n",
              "      <td>0.012037284173236032</td>\n",
              "      <td>0.024461238694450011</td>\n",
              "      <td>11.351948579912156</td>\n",
              "    </tr>\n",
              "    <tr>\n",
              "      <th>8</th>\n",
              "      <td>0.089999999999999997</td>\n",
              "      <td>0.013541944694890534</td>\n",
              "      <td>0.028948964712790910</td>\n",
              "      <td>12.774266206603681</td>\n",
              "    </tr>\n",
              "    <tr>\n",
              "      <th>9</th>\n",
              "      <td>0.10000000000000001</td>\n",
              "      <td>0.015046605216545040</td>\n",
              "      <td>0.033535926510120717</td>\n",
              "      <td>14.197088827904144</td>\n",
              "    </tr>\n",
              "    <tr>\n",
              "      <th>10</th>\n",
              "      <td>0.11000000000000000</td>\n",
              "      <td>0.016551265738199542</td>\n",
              "      <td>0.038160278364499707</td>\n",
              "      <td>15.620372610012817</td>\n",
              "    </tr>\n",
              "    <tr>\n",
              "      <th>11</th>\n",
              "      <td>0.12000000000000000</td>\n",
              "      <td>0.018055926259854048</td>\n",
              "      <td>0.042762656221401317</td>\n",
              "      <td>17.044076168594881</td>\n",
              "    </tr>\n",
              "    <tr>\n",
              "      <th>12</th>\n",
              "      <td>0.13000000000000000</td>\n",
              "      <td>0.019560586781508550</td>\n",
              "      <td>0.047287675021309053</td>\n",
              "      <td>18.468160223649846</td>\n",
              "    </tr>\n",
              "    <tr>\n",
              "      <th>13</th>\n",
              "      <td>0.14000000000000001</td>\n",
              "      <td>0.021065247303163056</td>\n",
              "      <td>0.051685198398048630</td>\n",
              "      <td>19.892587468984665</td>\n",
              "    </tr>\n",
              "    <tr>\n",
              "      <th>14</th>\n",
              "      <td>0.14999999999999999</td>\n",
              "      <td>0.022569907824817558</td>\n",
              "      <td>0.055911334253288890</td>\n",
              "      <td>21.317322560880282</td>\n",
              "    </tr>\n",
              "  </tbody>\n",
              "</table>\n",
              "</div>"
            ],
            "text/plain": [
              "                       0                      1                      2  \\\n",
              "0   0.010000000000000000  0.0015046605216545040  0.0010692820706294259   \n",
              "1   0.020000000000000000  0.0030093210433090080  0.0030744374114825097   \n",
              "2   0.029999999999999999  0.0045139815649635120  0.0056705800121432982   \n",
              "3   0.040000000000000001  0.0060186420866180160  0.0087417472382204185   \n",
              "4   0.050000000000000003  0.0075233026082725200   0.012216176263307723   \n",
              "5   0.059999999999999998  0.0090279631299270240   0.016033664912633507   \n",
              "6   0.070000000000000007   0.010532623651581528   0.020135458002301036   \n",
              "7   0.080000000000000002   0.012037284173236032   0.024461238694450011   \n",
              "8   0.089999999999999997   0.013541944694890534   0.028948964712790910   \n",
              "9    0.10000000000000001   0.015046605216545040   0.033535926510120717   \n",
              "10   0.11000000000000000   0.016551265738199542   0.038160278364499707   \n",
              "11   0.12000000000000000   0.018055926259854048   0.042762656221401317   \n",
              "12   0.13000000000000000   0.019560586781508550   0.047287675021309053   \n",
              "13   0.14000000000000001   0.021065247303163056   0.051685198398048630   \n",
              "14   0.14999999999999999   0.022569907824817558   0.055911334253288890   \n",
              "\n",
              "                     3  \n",
              "0   1.4150160295053575  \n",
              "1   2.8318212954106019  \n",
              "2   4.2498094198889786  \n",
              "3   5.6687533111689321  \n",
              "4   7.0885208626586103  \n",
              "5   8.5090208487088361  \n",
              "6   9.9301829492171461  \n",
              "7   11.351948579912156  \n",
              "8   12.774266206603681  \n",
              "9   14.197088827904144  \n",
              "10  15.620372610012817  \n",
              "11  17.044076168594881  \n",
              "12  18.468160223649846  \n",
              "13  19.892587468984665  \n",
              "14  21.317322560880282  "
            ]
          },
          "execution_count": 11,
          "metadata": {},
          "output_type": "execute_result"
        }
      ],
      "source": [
        "df.head(15)"
      ]
    },
    {
      "cell_type": "code",
      "execution_count": 12,
      "metadata": {
        "colab": {
          "base_uri": "https://localhost:8080/",
          "height": 423
        },
        "id": "M-0YMBdHuSMk",
        "outputId": "9098791f-0dc7-4bc7-d4a8-fc7af763f52f"
      },
      "outputs": [
        {
          "data": {
            "text/html": [
              "<div>\n",
              "<style scoped>\n",
              "    .dataframe tbody tr th:only-of-type {\n",
              "        vertical-align: middle;\n",
              "    }\n",
              "\n",
              "    .dataframe tbody tr th {\n",
              "        vertical-align: top;\n",
              "    }\n",
              "\n",
              "    .dataframe thead th {\n",
              "        text-align: right;\n",
              "    }\n",
              "</style>\n",
              "<table border=\"1\" class=\"dataframe\">\n",
              "  <thead>\n",
              "    <tr style=\"text-align: right;\">\n",
              "      <th></th>\n",
              "      <th>RHBO</th>\n",
              "      <th>RHO</th>\n",
              "      <th>ED</th>\n",
              "      <th>BE</th>\n",
              "    </tr>\n",
              "  </thead>\n",
              "  <tbody>\n",
              "    <tr>\n",
              "      <th>0</th>\n",
              "      <td>0.010000000000000000</td>\n",
              "      <td>0.0015046605216545040</td>\n",
              "      <td>0.0010692820706294259</td>\n",
              "      <td>1.4150160295053575</td>\n",
              "    </tr>\n",
              "    <tr>\n",
              "      <th>1</th>\n",
              "      <td>0.020000000000000000</td>\n",
              "      <td>0.0030093210433090080</td>\n",
              "      <td>0.0030744374114825097</td>\n",
              "      <td>2.8318212954106019</td>\n",
              "    </tr>\n",
              "    <tr>\n",
              "      <th>2</th>\n",
              "      <td>0.029999999999999999</td>\n",
              "      <td>0.0045139815649635120</td>\n",
              "      <td>0.0056705800121432982</td>\n",
              "      <td>4.2498094198889786</td>\n",
              "    </tr>\n",
              "    <tr>\n",
              "      <th>3</th>\n",
              "      <td>0.040000000000000001</td>\n",
              "      <td>0.0060186420866180160</td>\n",
              "      <td>0.0087417472382204185</td>\n",
              "      <td>5.6687533111689321</td>\n",
              "    </tr>\n",
              "    <tr>\n",
              "      <th>4</th>\n",
              "      <td>0.050000000000000003</td>\n",
              "      <td>0.0075233026082725200</td>\n",
              "      <td>0.012216176263307723</td>\n",
              "      <td>7.0885208626586103</td>\n",
              "    </tr>\n",
              "    <tr>\n",
              "      <th>...</th>\n",
              "      <td>...</td>\n",
              "      <td>...</td>\n",
              "      <td>...</td>\n",
              "      <td>...</td>\n",
              "    </tr>\n",
              "    <tr>\n",
              "      <th>95</th>\n",
              "      <td>0.95999999999999996</td>\n",
              "      <td>0.14444741007883238</td>\n",
              "      <td>2.0568582842403242</td>\n",
              "      <td>137.42277474738222</td>\n",
              "    </tr>\n",
              "    <tr>\n",
              "      <th>96</th>\n",
              "      <td>0.96999999999999997</td>\n",
              "      <td>0.14595207060048687</td>\n",
              "      <td>2.1343814565863646</td>\n",
              "      <td>138.87603727601174</td>\n",
              "    </tr>\n",
              "    <tr>\n",
              "      <th>97</th>\n",
              "      <td>0.97999999999999998</td>\n",
              "      <td>0.14745673112214139</td>\n",
              "      <td>2.2136757253784105</td>\n",
              "      <td>140.33010721928258</td>\n",
              "    </tr>\n",
              "    <tr>\n",
              "      <th>98</th>\n",
              "      <td>0.98999999999999999</td>\n",
              "      <td>0.14896139164379588</td>\n",
              "      <td>2.2947540878216555</td>\n",
              "      <td>141.78499447559983</td>\n",
              "    </tr>\n",
              "    <tr>\n",
              "      <th>99</th>\n",
              "      <td>1.0000000000000000</td>\n",
              "      <td>0.15046605216545039</td>\n",
              "      <td>2.3776291971059957</td>\n",
              "      <td>143.24070887309529</td>\n",
              "    </tr>\n",
              "  </tbody>\n",
              "</table>\n",
              "<p>100 rows × 4 columns</p>\n",
              "</div>"
            ],
            "text/plain": [
              "                    RHBO                    RHO                     ED  \\\n",
              "0   0.010000000000000000  0.0015046605216545040  0.0010692820706294259   \n",
              "1   0.020000000000000000  0.0030093210433090080  0.0030744374114825097   \n",
              "2   0.029999999999999999  0.0045139815649635120  0.0056705800121432982   \n",
              "3   0.040000000000000001  0.0060186420866180160  0.0087417472382204185   \n",
              "4   0.050000000000000003  0.0075233026082725200   0.012216176263307723   \n",
              "..                   ...                    ...                    ...   \n",
              "95   0.95999999999999996    0.14444741007883238     2.0568582842403242   \n",
              "96   0.96999999999999997    0.14595207060048687     2.1343814565863646   \n",
              "97   0.97999999999999998    0.14745673112214139     2.2136757253784105   \n",
              "98   0.98999999999999999    0.14896139164379588     2.2947540878216555   \n",
              "99    1.0000000000000000    0.15046605216545039     2.3776291971059957   \n",
              "\n",
              "                    BE  \n",
              "0   1.4150160295053575  \n",
              "1   2.8318212954106019  \n",
              "2   4.2498094198889786  \n",
              "3   5.6687533111689321  \n",
              "4   7.0885208626586103  \n",
              "..                 ...  \n",
              "95  137.42277474738222  \n",
              "96  138.87603727601174  \n",
              "97  140.33010721928258  \n",
              "98  141.78499447559983  \n",
              "99  143.24070887309529  \n",
              "\n",
              "[100 rows x 4 columns]"
            ]
          },
          "execution_count": 12,
          "metadata": {},
          "output_type": "execute_result"
        }
      ],
      "source": [
        "nama_kolom = ['RHBO', 'RHO', 'ED', 'BE']\n",
        "df.columns = nama_kolom\n",
        "df.head(100)"
      ]
    },
    {
      "cell_type": "code",
      "execution_count": 13,
      "metadata": {
        "id": "sWGY2kUKwMr_"
      },
      "outputs": [],
      "source": [
        "df = df.apply(lambda x: [Decimal(angka) for angka in x])"
      ]
    },
    {
      "cell_type": "code",
      "execution_count": 14,
      "metadata": {
        "colab": {
          "base_uri": "https://localhost:8080/"
        },
        "id": "zA1bRjxBuWqY",
        "outputId": "e8e324b6-88ed-4bcd-f430-1904585ee9a3"
      },
      "outputs": [
        {
          "data": {
            "text/plain": [
              "RHBO    0\n",
              "RHO     0\n",
              "ED      0\n",
              "BE      0\n",
              "dtype: int64"
            ]
          },
          "execution_count": 14,
          "metadata": {},
          "output_type": "execute_result"
        }
      ],
      "source": [
        "df.isnull().sum()"
      ]
    },
    {
      "cell_type": "code",
      "execution_count": 15,
      "metadata": {
        "colab": {
          "base_uri": "https://localhost:8080/",
          "height": 175
        },
        "id": "dWVITHV7uYNX",
        "outputId": "a43e7f45-17d4-464b-fa14-6bec171b76ab"
      },
      "outputs": [
        {
          "data": {
            "text/html": [
              "<div>\n",
              "<style scoped>\n",
              "    .dataframe tbody tr th:only-of-type {\n",
              "        vertical-align: middle;\n",
              "    }\n",
              "\n",
              "    .dataframe tbody tr th {\n",
              "        vertical-align: top;\n",
              "    }\n",
              "\n",
              "    .dataframe thead th {\n",
              "        text-align: right;\n",
              "    }\n",
              "</style>\n",
              "<table border=\"1\" class=\"dataframe\">\n",
              "  <thead>\n",
              "    <tr style=\"text-align: right;\">\n",
              "      <th></th>\n",
              "      <th>RHBO</th>\n",
              "      <th>RHO</th>\n",
              "      <th>ED</th>\n",
              "      <th>BE</th>\n",
              "    </tr>\n",
              "  </thead>\n",
              "  <tbody>\n",
              "    <tr>\n",
              "      <th>count</th>\n",
              "      <td>844</td>\n",
              "      <td>844</td>\n",
              "      <td>844</td>\n",
              "      <td>844</td>\n",
              "    </tr>\n",
              "    <tr>\n",
              "      <th>unique</th>\n",
              "      <td>844</td>\n",
              "      <td>844</td>\n",
              "      <td>844</td>\n",
              "      <td>844</td>\n",
              "    </tr>\n",
              "    <tr>\n",
              "      <th>top</th>\n",
              "      <td>0.010000000000000000</td>\n",
              "      <td>0.0015046605216545040</td>\n",
              "      <td>0.0010692820706294259</td>\n",
              "      <td>1.4150160295053575</td>\n",
              "    </tr>\n",
              "    <tr>\n",
              "      <th>freq</th>\n",
              "      <td>1</td>\n",
              "      <td>1</td>\n",
              "      <td>1</td>\n",
              "      <td>1</td>\n",
              "    </tr>\n",
              "  </tbody>\n",
              "</table>\n",
              "</div>"
            ],
            "text/plain": [
              "                        RHBO                    RHO                     ED  \\\n",
              "count                    844                    844                    844   \n",
              "unique                   844                    844                    844   \n",
              "top     0.010000000000000000  0.0015046605216545040  0.0010692820706294259   \n",
              "freq                       1                      1                      1   \n",
              "\n",
              "                        BE  \n",
              "count                  844  \n",
              "unique                 844  \n",
              "top     1.4150160295053575  \n",
              "freq                     1  "
            ]
          },
          "execution_count": 15,
          "metadata": {},
          "output_type": "execute_result"
        }
      ],
      "source": [
        "df.describe()"
      ]
    },
    {
      "cell_type": "code",
      "execution_count": 16,
      "metadata": {
        "colab": {
          "base_uri": "https://localhost:8080/"
        },
        "id": "VDoQfdLQnoQG",
        "outputId": "0d1d6cf7-20ce-44cd-9dec-580a2b6d10df"
      },
      "outputs": [
        {
          "name": "stdout",
          "output_type": "stream",
          "text": [
            "RHBO\n",
            "MAX = 8.4399999999999995\n",
            "MIN = 0.010000000000000000\n",
            "\n",
            "RHO\n",
            "MAX = 1.2699334802764013\n",
            "MIN = 0.0015046605216545040\n",
            "\n",
            "ED\n",
            "MAX = 679.96323291951353\n",
            "MIN = 0.0010692820706294259\n",
            "\n",
            "BE\n",
            "MAX = 1713.5582377159617\n",
            "MIN = 1.4150160295053575\n",
            "\n"
          ]
        }
      ],
      "source": [
        "for kolom in nama_kolom:\n",
        "  print('{}\\nMAX = {}\\nMIN = {}\\n'.format(kolom, df[kolom].max(), df[kolom].min()))"
      ]
    },
    {
      "cell_type": "code",
      "execution_count": 17,
      "metadata": {
        "colab": {
          "base_uri": "https://localhost:8080/"
        },
        "id": "bwKlVvlYuyg0",
        "outputId": "1fe5d1d8-3c1c-4c69-a3f7-ef173632c774"
      },
      "outputs": [
        {
          "data": {
            "text/plain": [
              "decimal.Decimal"
            ]
          },
          "execution_count": 17,
          "metadata": {},
          "output_type": "execute_result"
        }
      ],
      "source": [
        "type(df['RHBO'].min())"
      ]
    },
    {
      "cell_type": "code",
      "execution_count": 18,
      "metadata": {
        "colab": {
          "base_uri": "https://localhost:8080/",
          "height": 473
        },
        "id": "FRYg00U5uatq",
        "outputId": "8ca5ef26-db6b-4e2d-c7b6-7365c2b0cf3c"
      },
      "outputs": [
        {
          "data": {
            "text/plain": [
              "<matplotlib.legend.Legend at 0x1d6da7225e0>"
            ]
          },
          "execution_count": 18,
          "metadata": {},
          "output_type": "execute_result"
        },
        {
          "data": {
            "image/png": "[encoded data removed]",
            "text/plain": [
              "<Figure size 432x288 with 1 Axes>"
            ]
          },
          "metadata": {
            "needs_background": "light"
          },
          "output_type": "display_data"
        }
      ],
      "source": [
        "plt.plot(df['RHBO'], df['RHO'], label='RHO')\n",
        "plt.plot(df['RHBO'], df['ED'], label='ED')\n",
        "plt.plot(df['RHBO'], df['BE'], label='BE')\n",
        "plt.xticks([0,1,2,3,4,5,6,7,8,9])\n",
        "plt.yticks(np.linspace(0,2000,num=10))\n",
        "plt.xlabel('RHBO')\n",
        "plt.legend()"
      ]
    },
    {
      "cell_type": "code",
      "execution_count": 27,
      "metadata": {
        "colab": {
          "base_uri": "https://localhost:8080/",
          "height": 459
        },
        "id": "c5cmkCyZzkR8",
        "outputId": "eca6ab2c-3a6f-407e-8326-5d70b3f1992a"
      },
      "outputs": [
        {
          "data": {
            "text/plain": [
              "<matplotlib.legend.Legend at 0x1d6ddaad730>"
            ]
          },
          "execution_count": 27,
          "metadata": {},
          "output_type": "execute_result"
        },
        {
          "data": {
            "image/png": "[encoded data removed]",
            "text/plain": [
              "<Figure size 1440x360 with 3 Axes>"
            ]
          },
          "metadata": {
            "needs_background": "light"
          },
          "output_type": "display_data"
        }
      ],
      "source": [
        "plt.figure(figsize= (20, 5))\n",
        "plt.subplot(1,3,1)\n",
        "plt.plot(df['RHBO'], df['RHO'], label='RHO')\n",
        "plt.xticks([0,1,2,3,4,5,6,7,8,9])\n",
        "plt.yticks(np.linspace(0,1.5,num=10))\n",
        "plt.xlabel('RHBO')\n",
        "plt.legend()\n",
        "\n",
        "plt.subplot(1,3,2)\n",
        "plt.plot(df['RHBO'], df['ED'], label='ED')\n",
        "plt.xticks([0,1,2,3,4,5,6,7,8,9])\n",
        "plt.yticks(np.linspace(0,700,num=10))\n",
        "plt.xlabel('RHBO')\n",
        "plt.legend()\n",
        "\n",
        "plt.subplot(1,3,3)\n",
        "plt.plot(df['RHBO'], df['BE'], label='BE')\n",
        "plt.xticks([0,1,2,3,4,5,6,7,8,9])\n",
        "plt.yticks(np.linspace(0,1800,num=10))\n",
        "plt.xlabel('RHBO')\n",
        "plt.legend()"
      ]
    }
  ],
  "metadata": {
    "colab": {
      "provenance": []
    },
    "kernelspec": {
      "display_name": "base",
      "language": "python",
      "name": "python3"
    },
    "language_info": {
      "codemirror_mode": {
        "name": "ipython",
        "version": 3
      },
      "file_extension": ".py",
      "mimetype": "text/x-python",
      "name": "python",
      "nbconvert_exporter": "python",
      "pygments_lexer": "ipython3",
      "version": "3.9.12"
    },
    "orig_nbformat": 4
  },
  "nbformat": 4,
  "nbformat_minor": 0
}

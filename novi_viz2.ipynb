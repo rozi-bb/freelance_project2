{
  "cells": [
    {
      "cell_type": "code",
      "execution_count": 1,
      "metadata": {
        "id": "2Dkt5vqPlWM3"
      },
      "outputs": [],
      "source": [
        "import pandas as pd\n",
        "import matplotlib.pyplot as plt\n",
        "from decimal import Decimal\n",
        "import numpy as np\n",
        "\n",
        "df = pd.read_csv('https://raw.githubusercontent.com/rozi-bb/Dataset/main/SOS_NSM_FSU2HZ2.dat', header=None)"
      ]
    },
    {
      "cell_type": "code",
      "execution_count": 2,
      "metadata": {
        "id": "J663RUMtlcJM"
      },
      "outputs": [],
      "source": [
        "df = pd.DataFrame(df)"
      ]
    },
    {
      "cell_type": "code",
      "execution_count": 3,
      "metadata": {
        "id": "tHdKzQw9leCX"
      },
      "outputs": [],
      "source": [
        "df[0] = df[0].apply(lambda x: x.split())"
      ]
    },
    {
      "cell_type": "code",
      "execution_count": 4,
      "metadata": {
        "id": "EHDR5y6eleFL"
      },
      "outputs": [],
      "source": [
        "df[0] = df[0].apply(lambda x: [Decimal(angka) for angka in x])"
      ]
    },
    {
      "cell_type": "code",
      "execution_count": 5,
      "metadata": {
        "colab": {
          "base_uri": "https://localhost:8080/",
          "height": 206
        },
        "id": "B3M7ySauleH6",
        "outputId": "f6a14d9f-5619-41fe-873a-6a82aa860929"
      },
      "outputs": [
        {
          "data": {
            "text/html": [
              "<div>\n",
              "<style scoped>\n",
              "    .dataframe tbody tr th:only-of-type {\n",
              "        vertical-align: middle;\n",
              "    }\n",
              "\n",
              "    .dataframe tbody tr th {\n",
              "        vertical-align: top;\n",
              "    }\n",
              "\n",
              "    .dataframe thead th {\n",
              "        text-align: right;\n",
              "    }\n",
              "</style>\n",
              "<table border=\"1\" class=\"dataframe\">\n",
              "  <thead>\n",
              "    <tr style=\"text-align: right;\">\n",
              "      <th></th>\n",
              "      <th>0</th>\n",
              "    </tr>\n",
              "  </thead>\n",
              "  <tbody>\n",
              "    <tr>\n",
              "      <th>0</th>\n",
              "      <td>[0.010000000000000000, 0.034045442879325455, 0...</td>\n",
              "    </tr>\n",
              "    <tr>\n",
              "      <th>1</th>\n",
              "      <td>[0.020000000000000000, 0.040517751898917639, 0...</td>\n",
              "    </tr>\n",
              "    <tr>\n",
              "      <th>2</th>\n",
              "      <td>[0.029999999999999999, 0.044804425344701714, 0...</td>\n",
              "    </tr>\n",
              "    <tr>\n",
              "      <th>3</th>\n",
              "      <td>[0.040000000000000001, 0.048095544345062434, 0...</td>\n",
              "    </tr>\n",
              "    <tr>\n",
              "      <th>4</th>\n",
              "      <td>[0.050000000000000003, 0.050736281035461975, 0...</td>\n",
              "    </tr>\n",
              "  </tbody>\n",
              "</table>\n",
              "</div>"
            ],
            "text/plain": [
              "                                                   0\n",
              "0  [0.010000000000000000, 0.034045442879325455, 0...\n",
              "1  [0.020000000000000000, 0.040517751898917639, 0...\n",
              "2  [0.029999999999999999, 0.044804425344701714, 0...\n",
              "3  [0.040000000000000001, 0.048095544345062434, 0...\n",
              "4  [0.050000000000000003, 0.050736281035461975, 0..."
            ]
          },
          "execution_count": 5,
          "metadata": {},
          "output_type": "execute_result"
        }
      ],
      "source": [
        "df.head()"
      ]
    },
    {
      "cell_type": "code",
      "execution_count": 6,
      "metadata": {
        "id": "Lg7DEMytleKb"
      },
      "outputs": [],
      "source": [
        "def list_to_string(lst):\n",
        "    return ' '.join(map(str, lst))"
      ]
    },
    {
      "cell_type": "code",
      "execution_count": 7,
      "metadata": {
        "id": "j9OU-gaWlnrq"
      },
      "outputs": [],
      "source": [
        "df[0] = df[0].apply(list_to_string)"
      ]
    },
    {
      "cell_type": "code",
      "execution_count": 8,
      "metadata": {
        "colab": {
          "base_uri": "https://localhost:8080/",
          "height": 206
        },
        "id": "spStzFg8lo0s",
        "outputId": "ca41381b-4bac-4351-aa5c-6bed68427d0a"
      },
      "outputs": [
        {
          "data": {
            "text/html": [
              "<div>\n",
              "<style scoped>\n",
              "    .dataframe tbody tr th:only-of-type {\n",
              "        vertical-align: middle;\n",
              "    }\n",
              "\n",
              "    .dataframe tbody tr th {\n",
              "        vertical-align: top;\n",
              "    }\n",
              "\n",
              "    .dataframe thead th {\n",
              "        text-align: right;\n",
              "    }\n",
              "</style>\n",
              "<table border=\"1\" class=\"dataframe\">\n",
              "  <thead>\n",
              "    <tr style=\"text-align: right;\">\n",
              "      <th></th>\n",
              "      <th>0</th>\n",
              "    </tr>\n",
              "  </thead>\n",
              "  <tbody>\n",
              "    <tr>\n",
              "      <th>0</th>\n",
              "      <td>0.010000000000000000 0.034045442879325455 0.57...</td>\n",
              "    </tr>\n",
              "    <tr>\n",
              "      <th>1</th>\n",
              "      <td>0.020000000000000000 0.040517751898917639 0.57...</td>\n",
              "    </tr>\n",
              "    <tr>\n",
              "      <th>2</th>\n",
              "      <td>0.029999999999999999 0.044804425344701714 0.57...</td>\n",
              "    </tr>\n",
              "    <tr>\n",
              "      <th>3</th>\n",
              "      <td>0.040000000000000001 0.048095544345062434 0.57...</td>\n",
              "    </tr>\n",
              "    <tr>\n",
              "      <th>4</th>\n",
              "      <td>0.050000000000000003 0.050736281035461975 0.57...</td>\n",
              "    </tr>\n",
              "  </tbody>\n",
              "</table>\n",
              "</div>"
            ],
            "text/plain": [
              "                                                   0\n",
              "0  0.010000000000000000 0.034045442879325455 0.57...\n",
              "1  0.020000000000000000 0.040517751898917639 0.57...\n",
              "2  0.029999999999999999 0.044804425344701714 0.57...\n",
              "3  0.040000000000000001 0.048095544345062434 0.57...\n",
              "4  0.050000000000000003 0.050736281035461975 0.57..."
            ]
          },
          "execution_count": 8,
          "metadata": {},
          "output_type": "execute_result"
        }
      ],
      "source": [
        "df.head()"
      ]
    },
    {
      "cell_type": "code",
      "execution_count": 9,
      "metadata": {
        "id": "haJ2Urfvlo3-"
      },
      "outputs": [],
      "source": [
        "df = df[0].str.split(' ', expand=True)"
      ]
    },
    {
      "cell_type": "code",
      "execution_count": 10,
      "metadata": {
        "colab": {
          "base_uri": "https://localhost:8080/",
          "height": 519
        },
        "id": "7pS22C22lsE9",
        "outputId": "aec76c1c-6cc3-4bc3-abad-63c1d1ce9ff7"
      },
      "outputs": [
        {
          "data": {
            "text/html": [
              "<div>\n",
              "<style scoped>\n",
              "    .dataframe tbody tr th:only-of-type {\n",
              "        vertical-align: middle;\n",
              "    }\n",
              "\n",
              "    .dataframe tbody tr th {\n",
              "        vertical-align: top;\n",
              "    }\n",
              "\n",
              "    .dataframe thead th {\n",
              "        text-align: right;\n",
              "    }\n",
              "</style>\n",
              "<table border=\"1\" class=\"dataframe\">\n",
              "  <thead>\n",
              "    <tr style=\"text-align: right;\">\n",
              "      <th></th>\n",
              "      <th>0</th>\n",
              "      <th>1</th>\n",
              "      <th>2</th>\n",
              "      <th>3</th>\n",
              "      <th>4</th>\n",
              "    </tr>\n",
              "  </thead>\n",
              "  <tbody>\n",
              "    <tr>\n",
              "      <th>0</th>\n",
              "      <td>0.010000000000000000</td>\n",
              "      <td>0.034045442879325455</td>\n",
              "      <td>0.57735026918962584</td>\n",
              "      <td>0.0010692820706294259</td>\n",
              "      <td>1.4150160295053575</td>\n",
              "    </tr>\n",
              "    <tr>\n",
              "      <th>1</th>\n",
              "      <td>0.020000000000000000</td>\n",
              "      <td>0.040517751898917639</td>\n",
              "      <td>0.57735026918962584</td>\n",
              "      <td>0.0030744374114825097</td>\n",
              "      <td>2.8318212954106019</td>\n",
              "    </tr>\n",
              "    <tr>\n",
              "      <th>2</th>\n",
              "      <td>0.029999999999999999</td>\n",
              "      <td>0.044804425344701714</td>\n",
              "      <td>0.57735026918962584</td>\n",
              "      <td>0.0056705800121432982</td>\n",
              "      <td>4.2498094198889786</td>\n",
              "    </tr>\n",
              "    <tr>\n",
              "      <th>3</th>\n",
              "      <td>0.040000000000000001</td>\n",
              "      <td>0.048095544345062434</td>\n",
              "      <td>0.57735026918962584</td>\n",
              "      <td>0.0087417472382204185</td>\n",
              "      <td>5.6687533111689321</td>\n",
              "    </tr>\n",
              "    <tr>\n",
              "      <th>4</th>\n",
              "      <td>0.050000000000000003</td>\n",
              "      <td>0.050736281035461975</td>\n",
              "      <td>0.57735026918962584</td>\n",
              "      <td>0.012216176263307723</td>\n",
              "      <td>7.0885208626586103</td>\n",
              "    </tr>\n",
              "    <tr>\n",
              "      <th>5</th>\n",
              "      <td>0.059999999999999998</td>\n",
              "      <td>0.052856275552447554</td>\n",
              "      <td>0.57735026918962584</td>\n",
              "      <td>0.016033664912633507</td>\n",
              "      <td>8.5090208487088361</td>\n",
              "    </tr>\n",
              "    <tr>\n",
              "      <th>6</th>\n",
              "      <td>0.070000000000000007</td>\n",
              "      <td>0.054512104362663051</td>\n",
              "      <td>0.57735026918962584</td>\n",
              "      <td>0.020135458002301036</td>\n",
              "      <td>9.9301829492171461</td>\n",
              "    </tr>\n",
              "    <tr>\n",
              "      <th>7</th>\n",
              "      <td>0.080000000000000002</td>\n",
              "      <td>0.055733451856607975</td>\n",
              "      <td>0.57735026918962584</td>\n",
              "      <td>0.024461238694450011</td>\n",
              "      <td>11.351948579912156</td>\n",
              "    </tr>\n",
              "    <tr>\n",
              "      <th>8</th>\n",
              "      <td>0.089999999999999997</td>\n",
              "      <td>0.056540758824033303</td>\n",
              "      <td>0.57735026918962584</td>\n",
              "      <td>0.028948964712790910</td>\n",
              "      <td>12.774266206603681</td>\n",
              "    </tr>\n",
              "    <tr>\n",
              "      <th>9</th>\n",
              "      <td>0.10000000000000001</td>\n",
              "      <td>0.056952440675778045</td>\n",
              "      <td>0.57735026918962584</td>\n",
              "      <td>0.033535926510120717</td>\n",
              "      <td>14.197088827904144</td>\n",
              "    </tr>\n",
              "    <tr>\n",
              "      <th>10</th>\n",
              "      <td>0.11000000000000000</td>\n",
              "      <td>0.056987804641580909</td>\n",
              "      <td>0.57735026918962584</td>\n",
              "      <td>0.038160278364499707</td>\n",
              "      <td>15.620372610012817</td>\n",
              "    </tr>\n",
              "    <tr>\n",
              "      <th>11</th>\n",
              "      <td>0.12000000000000000</td>\n",
              "      <td>0.056668079530168211</td>\n",
              "      <td>0.57735026918962584</td>\n",
              "      <td>0.042762656221401317</td>\n",
              "      <td>17.044076168594881</td>\n",
              "    </tr>\n",
              "    <tr>\n",
              "      <th>12</th>\n",
              "      <td>0.13000000000000000</td>\n",
              "      <td>0.056016613170505596</td>\n",
              "      <td>0.57735026918962584</td>\n",
              "      <td>0.047287675021309053</td>\n",
              "      <td>18.468160223649846</td>\n",
              "    </tr>\n",
              "    <tr>\n",
              "      <th>13</th>\n",
              "      <td>0.14000000000000001</td>\n",
              "      <td>0.055058734980673880</td>\n",
              "      <td>0.57735026918962584</td>\n",
              "      <td>0.051685198398048630</td>\n",
              "      <td>19.892587468984665</td>\n",
              "    </tr>\n",
              "    <tr>\n",
              "      <th>14</th>\n",
              "      <td>0.14999999999999999</td>\n",
              "      <td>0.053821526910070798</td>\n",
              "      <td>0.57735026918962584</td>\n",
              "      <td>0.055911334253288890</td>\n",
              "      <td>21.317322560880282</td>\n",
              "    </tr>\n",
              "  </tbody>\n",
              "</table>\n",
              "</div>"
            ],
            "text/plain": [
              "                       0                     1                    2  \\\n",
              "0   0.010000000000000000  0.034045442879325455  0.57735026918962584   \n",
              "1   0.020000000000000000  0.040517751898917639  0.57735026918962584   \n",
              "2   0.029999999999999999  0.044804425344701714  0.57735026918962584   \n",
              "3   0.040000000000000001  0.048095544345062434  0.57735026918962584   \n",
              "4   0.050000000000000003  0.050736281035461975  0.57735026918962584   \n",
              "5   0.059999999999999998  0.052856275552447554  0.57735026918962584   \n",
              "6   0.070000000000000007  0.054512104362663051  0.57735026918962584   \n",
              "7   0.080000000000000002  0.055733451856607975  0.57735026918962584   \n",
              "8   0.089999999999999997  0.056540758824033303  0.57735026918962584   \n",
              "9    0.10000000000000001  0.056952440675778045  0.57735026918962584   \n",
              "10   0.11000000000000000  0.056987804641580909  0.57735026918962584   \n",
              "11   0.12000000000000000  0.056668079530168211  0.57735026918962584   \n",
              "12   0.13000000000000000  0.056016613170505596  0.57735026918962584   \n",
              "13   0.14000000000000001  0.055058734980673880  0.57735026918962584   \n",
              "14   0.14999999999999999  0.053821526910070798  0.57735026918962584   \n",
              "\n",
              "                        3                   4  \n",
              "0   0.0010692820706294259  1.4150160295053575  \n",
              "1   0.0030744374114825097  2.8318212954106019  \n",
              "2   0.0056705800121432982  4.2498094198889786  \n",
              "3   0.0087417472382204185  5.6687533111689321  \n",
              "4    0.012216176263307723  7.0885208626586103  \n",
              "5    0.016033664912633507  8.5090208487088361  \n",
              "6    0.020135458002301036  9.9301829492171461  \n",
              "7    0.024461238694450011  11.351948579912156  \n",
              "8    0.028948964712790910  12.774266206603681  \n",
              "9    0.033535926510120717  14.197088827904144  \n",
              "10   0.038160278364499707  15.620372610012817  \n",
              "11   0.042762656221401317  17.044076168594881  \n",
              "12   0.047287675021309053  18.468160223649846  \n",
              "13   0.051685198398048630  19.892587468984665  \n",
              "14   0.055911334253288890  21.317322560880282  "
            ]
          },
          "execution_count": 10,
          "metadata": {},
          "output_type": "execute_result"
        }
      ],
      "source": [
        "df.head(15)"
      ]
    },
    {
      "cell_type": "code",
      "execution_count": 11,
      "metadata": {
        "colab": {
          "base_uri": "https://localhost:8080/",
          "height": 423
        },
        "id": "cGgcyfzXlsIA",
        "outputId": "85293d4b-cff7-438d-e051-b20a1bd7e8b5"
      },
      "outputs": [
        {
          "data": {
            "text/html": [
              "<div>\n",
              "<style scoped>\n",
              "    .dataframe tbody tr th:only-of-type {\n",
              "        vertical-align: middle;\n",
              "    }\n",
              "\n",
              "    .dataframe tbody tr th {\n",
              "        vertical-align: top;\n",
              "    }\n",
              "\n",
              "    .dataframe thead th {\n",
              "        text-align: right;\n",
              "    }\n",
              "</style>\n",
              "<table border=\"1\" class=\"dataframe\">\n",
              "  <thead>\n",
              "    <tr style=\"text-align: right;\">\n",
              "      <th></th>\n",
              "      <th>RHBO</th>\n",
              "      <th>SOS</th>\n",
              "      <th>CL</th>\n",
              "      <th>PRESSCR</th>\n",
              "      <th>ED</th>\n",
              "    </tr>\n",
              "  </thead>\n",
              "  <tbody>\n",
              "    <tr>\n",
              "      <th>0</th>\n",
              "      <td>0.010000000000000000</td>\n",
              "      <td>0.034045442879325455</td>\n",
              "      <td>0.57735026918962584</td>\n",
              "      <td>0.0010692820706294259</td>\n",
              "      <td>1.4150160295053575</td>\n",
              "    </tr>\n",
              "    <tr>\n",
              "      <th>1</th>\n",
              "      <td>0.020000000000000000</td>\n",
              "      <td>0.040517751898917639</td>\n",
              "      <td>0.57735026918962584</td>\n",
              "      <td>0.0030744374114825097</td>\n",
              "      <td>2.8318212954106019</td>\n",
              "    </tr>\n",
              "    <tr>\n",
              "      <th>2</th>\n",
              "      <td>0.029999999999999999</td>\n",
              "      <td>0.044804425344701714</td>\n",
              "      <td>0.57735026918962584</td>\n",
              "      <td>0.0056705800121432982</td>\n",
              "      <td>4.2498094198889786</td>\n",
              "    </tr>\n",
              "    <tr>\n",
              "      <th>3</th>\n",
              "      <td>0.040000000000000001</td>\n",
              "      <td>0.048095544345062434</td>\n",
              "      <td>0.57735026918962584</td>\n",
              "      <td>0.0087417472382204185</td>\n",
              "      <td>5.6687533111689321</td>\n",
              "    </tr>\n",
              "    <tr>\n",
              "      <th>4</th>\n",
              "      <td>0.050000000000000003</td>\n",
              "      <td>0.050736281035461975</td>\n",
              "      <td>0.57735026918962584</td>\n",
              "      <td>0.012216176263307723</td>\n",
              "      <td>7.0885208626586103</td>\n",
              "    </tr>\n",
              "    <tr>\n",
              "      <th>...</th>\n",
              "      <td>...</td>\n",
              "      <td>...</td>\n",
              "      <td>...</td>\n",
              "      <td>...</td>\n",
              "      <td>...</td>\n",
              "    </tr>\n",
              "    <tr>\n",
              "      <th>95</th>\n",
              "      <td>0.95999999999999996</td>\n",
              "      <td>0.22967904045462317</td>\n",
              "      <td>0.57735026918962584</td>\n",
              "      <td>2.0568582842403242</td>\n",
              "      <td>137.42277474738222</td>\n",
              "    </tr>\n",
              "    <tr>\n",
              "      <th>96</th>\n",
              "      <td>0.96999999999999997</td>\n",
              "      <td>0.23224372733661031</td>\n",
              "      <td>0.57735026918962584</td>\n",
              "      <td>2.1343814565863646</td>\n",
              "      <td>138.87603727601174</td>\n",
              "    </tr>\n",
              "    <tr>\n",
              "      <th>97</th>\n",
              "      <td>0.97999999999999998</td>\n",
              "      <td>0.23479612399941724</td>\n",
              "      <td>0.57735026918962584</td>\n",
              "      <td>2.2136757253784105</td>\n",
              "      <td>140.33010721928258</td>\n",
              "    </tr>\n",
              "    <tr>\n",
              "      <th>98</th>\n",
              "      <td>0.98999999999999999</td>\n",
              "      <td>0.23733601673213497</td>\n",
              "      <td>0.57735026918962584</td>\n",
              "      <td>2.2947540878216555</td>\n",
              "      <td>141.78499447559983</td>\n",
              "    </tr>\n",
              "    <tr>\n",
              "      <th>99</th>\n",
              "      <td>1.0000000000000000</td>\n",
              "      <td>0.23986327699718477</td>\n",
              "      <td>0.57735026918962584</td>\n",
              "      <td>2.3776291971059957</td>\n",
              "      <td>143.24070887309529</td>\n",
              "    </tr>\n",
              "  </tbody>\n",
              "</table>\n",
              "<p>100 rows × 5 columns</p>\n",
              "</div>"
            ],
            "text/plain": [
              "                    RHBO                   SOS                   CL  \\\n",
              "0   0.010000000000000000  0.034045442879325455  0.57735026918962584   \n",
              "1   0.020000000000000000  0.040517751898917639  0.57735026918962584   \n",
              "2   0.029999999999999999  0.044804425344701714  0.57735026918962584   \n",
              "3   0.040000000000000001  0.048095544345062434  0.57735026918962584   \n",
              "4   0.050000000000000003  0.050736281035461975  0.57735026918962584   \n",
              "..                   ...                   ...                  ...   \n",
              "95   0.95999999999999996   0.22967904045462317  0.57735026918962584   \n",
              "96   0.96999999999999997   0.23224372733661031  0.57735026918962584   \n",
              "97   0.97999999999999998   0.23479612399941724  0.57735026918962584   \n",
              "98   0.98999999999999999   0.23733601673213497  0.57735026918962584   \n",
              "99    1.0000000000000000   0.23986327699718477  0.57735026918962584   \n",
              "\n",
              "                  PRESSCR                  ED  \n",
              "0   0.0010692820706294259  1.4150160295053575  \n",
              "1   0.0030744374114825097  2.8318212954106019  \n",
              "2   0.0056705800121432982  4.2498094198889786  \n",
              "3   0.0087417472382204185  5.6687533111689321  \n",
              "4    0.012216176263307723  7.0885208626586103  \n",
              "..                    ...                 ...  \n",
              "95     2.0568582842403242  137.42277474738222  \n",
              "96     2.1343814565863646  138.87603727601174  \n",
              "97     2.2136757253784105  140.33010721928258  \n",
              "98     2.2947540878216555  141.78499447559983  \n",
              "99     2.3776291971059957  143.24070887309529  \n",
              "\n",
              "[100 rows x 5 columns]"
            ]
          },
          "execution_count": 11,
          "metadata": {},
          "output_type": "execute_result"
        }
      ],
      "source": [
        "nama_kolom = ['RHBO', 'SOS', 'CL', 'PRESSCR', 'ED']\n",
        "df.columns = nama_kolom\n",
        "df.head(100)"
      ]
    },
    {
      "cell_type": "code",
      "execution_count": 12,
      "metadata": {
        "id": "IdzLxF-ixeR-"
      },
      "outputs": [],
      "source": [
        "df = df.apply(lambda x: [Decimal(angka) for angka in x])"
      ]
    },
    {
      "cell_type": "code",
      "execution_count": 13,
      "metadata": {
        "colab": {
          "base_uri": "https://localhost:8080/"
        },
        "id": "CyGIp82WmO7g",
        "outputId": "f95abb6c-0a13-4a0c-d01b-c6703e3db4f8"
      },
      "outputs": [
        {
          "data": {
            "text/plain": [
              "RHBO       0\n",
              "SOS        0\n",
              "CL         0\n",
              "PRESSCR    0\n",
              "ED         0\n",
              "dtype: int64"
            ]
          },
          "execution_count": 13,
          "metadata": {},
          "output_type": "execute_result"
        }
      ],
      "source": [
        "df.isnull().sum()"
      ]
    },
    {
      "cell_type": "code",
      "execution_count": 14,
      "metadata": {
        "colab": {
          "base_uri": "https://localhost:8080/",
          "height": 175
        },
        "id": "w3n-0SA4mU6l",
        "outputId": "e2d4306e-95b1-4cbb-a745-f27d82284400"
      },
      "outputs": [
        {
          "data": {
            "text/html": [
              "<div>\n",
              "<style scoped>\n",
              "    .dataframe tbody tr th:only-of-type {\n",
              "        vertical-align: middle;\n",
              "    }\n",
              "\n",
              "    .dataframe tbody tr th {\n",
              "        vertical-align: top;\n",
              "    }\n",
              "\n",
              "    .dataframe thead th {\n",
              "        text-align: right;\n",
              "    }\n",
              "</style>\n",
              "<table border=\"1\" class=\"dataframe\">\n",
              "  <thead>\n",
              "    <tr style=\"text-align: right;\">\n",
              "      <th></th>\n",
              "      <th>RHBO</th>\n",
              "      <th>SOS</th>\n",
              "      <th>CL</th>\n",
              "      <th>PRESSCR</th>\n",
              "      <th>ED</th>\n",
              "    </tr>\n",
              "  </thead>\n",
              "  <tbody>\n",
              "    <tr>\n",
              "      <th>count</th>\n",
              "      <td>844</td>\n",
              "      <td>844</td>\n",
              "      <td>844</td>\n",
              "      <td>844</td>\n",
              "      <td>844</td>\n",
              "    </tr>\n",
              "    <tr>\n",
              "      <th>unique</th>\n",
              "      <td>844</td>\n",
              "      <td>844</td>\n",
              "      <td>1</td>\n",
              "      <td>844</td>\n",
              "      <td>844</td>\n",
              "    </tr>\n",
              "    <tr>\n",
              "      <th>top</th>\n",
              "      <td>0.010000000000000000</td>\n",
              "      <td>0.034045442879325455</td>\n",
              "      <td>0.57735026918962584</td>\n",
              "      <td>0.0010692820706294259</td>\n",
              "      <td>1.4150160295053575</td>\n",
              "    </tr>\n",
              "    <tr>\n",
              "      <th>freq</th>\n",
              "      <td>1</td>\n",
              "      <td>1</td>\n",
              "      <td>844</td>\n",
              "      <td>1</td>\n",
              "      <td>1</td>\n",
              "    </tr>\n",
              "  </tbody>\n",
              "</table>\n",
              "</div>"
            ],
            "text/plain": [
              "                        RHBO                   SOS                   CL  \\\n",
              "count                    844                   844                  844   \n",
              "unique                   844                   844                    1   \n",
              "top     0.010000000000000000  0.034045442879325455  0.57735026918962584   \n",
              "freq                       1                     1                  844   \n",
              "\n",
              "                      PRESSCR                  ED  \n",
              "count                     844                 844  \n",
              "unique                    844                 844  \n",
              "top     0.0010692820706294259  1.4150160295053575  \n",
              "freq                        1                   1  "
            ]
          },
          "execution_count": 14,
          "metadata": {},
          "output_type": "execute_result"
        }
      ],
      "source": [
        "df.describe()"
      ]
    },
    {
      "cell_type": "code",
      "execution_count": 15,
      "metadata": {
        "colab": {
          "base_uri": "https://localhost:8080/"
        },
        "id": "9C18P-f0xjUR",
        "outputId": "870e4a88-0043-4bcc-cef1-6a9b59c58e5b"
      },
      "outputs": [
        {
          "data": {
            "text/plain": [
              "decimal.Decimal"
            ]
          },
          "execution_count": 15,
          "metadata": {},
          "output_type": "execute_result"
        }
      ],
      "source": [
        "type(df['RHBO'].min())"
      ]
    },
    {
      "cell_type": "code",
      "execution_count": 16,
      "metadata": {
        "colab": {
          "base_uri": "https://localhost:8080/"
        },
        "id": "uiHzGDX9o6Ae",
        "outputId": "c10d5dff-c337-47b5-daff-25f45534c2ec"
      },
      "outputs": [
        {
          "name": "stdout",
          "output_type": "stream",
          "text": [
            "RHBO\n",
            "MAX = 8.4399999999999995\n",
            "MIN = 0.010000000000000000\n",
            "\n",
            "SOS\n",
            "MAX = 0.73676190396813546\n",
            "MIN = 0.027851539115222430\n",
            "\n",
            "CL\n",
            "MAX = 0.57735026918962584\n",
            "MIN = 0.57735026918962584\n",
            "\n",
            "PRESSCR\n",
            "MAX = 1245.2185724531771\n",
            "MIN = 0.0010692820706294259\n",
            "\n",
            "ED\n",
            "MAX = 1713.5582377159617\n",
            "MIN = 1.4150160295053575\n",
            "\n"
          ]
        }
      ],
      "source": [
        "for kolom in nama_kolom:\n",
        "  print('{}\\nMAX = {}\\nMIN = {}\\n'.format(kolom, df[kolom].max(), df[kolom].min()))"
      ]
    },
    {
      "cell_type": "code",
      "execution_count": 17,
      "metadata": {
        "colab": {
          "base_uri": "https://localhost:8080/",
          "height": 473
        },
        "id": "BgpWxhkWmVqE",
        "outputId": "cf0e8c63-d6ff-4949-c894-0561be73d252"
      },
      "outputs": [
        {
          "data": {
            "text/plain": [
              "<matplotlib.legend.Legend at 0x175e12104f0>"
            ]
          },
          "execution_count": 17,
          "metadata": {},
          "output_type": "execute_result"
        },
        {
          "data": {
            "image/png": "[encoded data removed]",
            "text/plain": [
              "<Figure size 432x288 with 1 Axes>"
            ]
          },
          "metadata": {
            "needs_background": "light"
          },
          "output_type": "display_data"
        }
      ],
      "source": [
        "plt.plot(df['RHBO'], df['SOS'], label='SOS')\n",
        "plt.plot(df['RHBO'], df['CL'], label='CL')\n",
        "plt.plot(df['RHBO'], df['PRESSCR'], label='PRESSCR')\n",
        "plt.plot(df['RHBO'], df['ED'], label='ED')\n",
        "plt.xticks([0,1,2,3,4,5,6,7,8,9])\n",
        "plt.yticks(np.linspace(0,2000,num=10))\n",
        "plt.xlabel('RHBO')\n",
        "plt.legend()"
      ]
    },
    {
      "cell_type": "code",
      "execution_count": 22,
      "metadata": {
        "colab": {
          "base_uri": "https://localhost:8080/",
          "height": 701
        },
        "id": "O5vxjCfK0_Mp",
        "outputId": "a0911e04-3e5f-429d-ecb0-11fcf4e66e31"
      },
      "outputs": [
        {
          "data": {
            "text/plain": [
              "<matplotlib.legend.Legend at 0x175e3c9a850>"
            ]
          },
          "execution_count": 22,
          "metadata": {},
          "output_type": "execute_result"
        },
        {
          "data": {
            "image/png": "[encoded data removed]",
            "text/plain": [
              "<Figure size 1080x720 with 4 Axes>"
            ]
          },
          "metadata": {
            "needs_background": "light"
          },
          "output_type": "display_data"
        }
      ],
      "source": [
        "plt.figure(figsize= (15, 10))\n",
        "\n",
        "plt.subplot(2,2,1)\n",
        "plt.plot(df['RHBO'], df['SOS'], label='SOS')\n",
        "plt.xticks([0,1,2,3,4,5,6,7,8,9])\n",
        "plt.yticks(np.linspace(0,0.75,num=10))\n",
        "plt.xlabel('RHBO')\n",
        "plt.legend()\n",
        "\n",
        "plt.subplot(2,2,2)\n",
        "plt.plot(df['RHBO'], df['CL'], label='CL')\n",
        "plt.xticks([0,1,2,3,4,5,6,7,8,9])\n",
        "plt.yticks(np.linspace(0,1,num=10))\n",
        "plt.xlabel('RHBO')\n",
        "plt.legend()\n",
        "\n",
        "plt.subplot(2,2,3)\n",
        "plt.plot(df['RHBO'], df['PRESSCR'], label='PRESSCR')\n",
        "plt.xticks([0,1,2,3,4,5,6,7,8,9])\n",
        "plt.yticks(np.linspace(0,1300,num=10))\n",
        "plt.xlabel('RHBO')\n",
        "plt.legend()\n",
        "\n",
        "plt.subplot(2,2,4)\n",
        "plt.plot(df['RHBO'], df['ED'], label='ED')\n",
        "plt.xticks([0,1,2,3,4,5,6,7,8,9])\n",
        "plt.yticks(np.linspace(0,1750,num=10))\n",
        "plt.xlabel('RHBO')\n",
        "plt.legend()"
      ]
    }
  ],
  "metadata": {
    "colab": {
      "provenance": []
    },
    "kernelspec": {
      "display_name": "base",
      "language": "python",
      "name": "python3"
    },
    "language_info": {
      "codemirror_mode": {
        "name": "ipython",
        "version": 3
      },
      "file_extension": ".py",
      "mimetype": "text/x-python",
      "name": "python",
      "nbconvert_exporter": "python",
      "pygments_lexer": "ipython3",
      "version": "3.9.12"
    },
    "orig_nbformat": 4
  },
  "nbformat": 4,
  "nbformat_minor": 0
}
